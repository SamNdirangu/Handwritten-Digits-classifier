{
  "nbformat": 4,
  "nbformat_minor": 0,
  "metadata": {
    "colab": {
      "name": "HandWritten Classifiier.ipynb",
      "version": "0.3.2",
      "provenance": [],
      "collapsed_sections": [
        "6mnl_eTsaRyK",
        "5CjxL-RlhNMH",
        "bvtah0jqr6Op",
        "wp4n53npBJmR",
        "ByhCQftJBJmy",
        "L19usDFGBJm6",
        "LHKhZPrLBJng",
        "Q9iqxqDtEqRc",
        "W1-6xOy6EqQR",
        "bkkF15P5cL6I",
        "bg3QdTTfz4Hl",
        "gut8A_7rCaW6",
        "z6GVudbm1hSQ"
      ],
      "include_colab_link": true
    },
    "kernelspec": {
      "name": "python3",
      "display_name": "Python 3"
    }
  },
  "cells": [
    {
      "cell_type": "markdown",
      "metadata": {
        "id": "view-in-github",
        "colab_type": "text"
      },
      "source": [
        "<a href=\"https://colab.research.google.com/github/SamNdirangu/Handwritten-Digits-classifier/blob/master/HandWritten_Classifiier.ipynb\" target=\"_parent\"><img src=\"https://colab.research.google.com/assets/colab-badge.svg\" alt=\"Open In Colab\"/></a>"
      ]
    },
    {
      "cell_type": "markdown",
      "metadata": {
        "id": "Z8S__QeeXaLx",
        "colab_type": "text"
      },
      "source": [
        "# Hand Written Digits Classifier\n",
        "The following classifier is implemented as some sort of learning exercise  using ANN, CNN ,SVMs and KNNs to be able to comparatively classifiy hand written digits.\n"
      ]
    },
    {
      "cell_type": "markdown",
      "metadata": {
        "id": "smg-p6t1X8AF",
        "colab_type": "text"
      },
      "source": [
        "Import the required libraries\n"
      ]
    },
    {
      "cell_type": "code",
      "metadata": {
        "id": "RPOTwwPUX4_O",
        "colab_type": "code",
        "colab": {}
      },
      "source": [
        "from __future__ import absolute_import, division, print_function, unicode_literals\n",
        "\n",
        "# TensorFlow and tf.keras\n",
        "import tensorflow as tf\n",
        "from tensorflow import keras\n",
        "\n",
        "# Helper libraries\n",
        "import numpy as np\n",
        "import matplotlib.pyplot as plt\n",
        "import seaborn as sns; sns.set()\n"
      ],
      "execution_count": 0,
      "outputs": []
    },
    {
      "cell_type": "markdown",
      "metadata": {
        "id": "NVNHz0t5Yr07",
        "colab_type": "text"
      },
      "source": [
        "# Step 1: Import the data: Mnist Dataset\n",
        "\n",
        "The training set contains 60000 digits each a  2d array of 28 by 28\n",
        "The test set consist of 10,000 digit images"
      ]
    },
    {
      "cell_type": "code",
      "metadata": {
        "id": "oe8J3O5PYT1h",
        "colab_type": "code",
        "outputId": "afceb88a-8893-4d17-dbbf-d73b0781009b",
        "colab": {
          "base_uri": "https://localhost:8080/",
          "height": 83
        }
      },
      "source": [
        "#Import the data from Keras\n",
        "from keras.datasets import mnist\n",
        "\n",
        "#The data is already split into a train and test.\n",
        "(x_train, y_train), (x_test, y_test) = mnist.load_data()\n",
        "classes = ['0','1','2','3','4','5','6','7','8','9']\n",
        "\n",
        "#View the shape\n",
        "print (x_train.shape)\n",
        "print (len(y_train))\n",
        "print (\"Test Set\",x_test.shape)"
      ],
      "execution_count": 0,
      "outputs": [
        {
          "output_type": "stream",
          "text": [
            "Using TensorFlow backend.\n"
          ],
          "name": "stderr"
        },
        {
          "output_type": "stream",
          "text": [
            "(60000, 28, 28)\n",
            "60000\n",
            "Test Set (10000, 28, 28)\n"
          ],
          "name": "stdout"
        }
      ]
    },
    {
      "cell_type": "markdown",
      "metadata": {
        "id": "ZnBvjPIueKeC",
        "colab_type": "text"
      },
      "source": [
        "## Do a bit of exploring\n",
        "Display the first 25 images from the training set and display the class name below each image. Verify that the data is in the correct format and we're ready to build and train the network."
      ]
    },
    {
      "cell_type": "code",
      "metadata": {
        "id": "6mbn7YNneLeQ",
        "colab_type": "code",
        "outputId": "1b5e7acb-7611-4383-a118-91d7e246c82a",
        "colab": {
          "base_uri": "https://localhost:8080/",
          "height": 598
        }
      },
      "source": [
        "plt.figure(figsize=(10,10))\n",
        "for i in range(25):\n",
        "    plt.subplot(5,5,i+1) #Subplot cells horizontal and vertical and which one to plot in\n",
        "    plt.xticks([])\n",
        "    plt.yticks([])\n",
        "    plt.grid(False)\n",
        "    plt.imshow(x_train[i], cmap=plt.cm.binary)\n",
        "    plt.xlabel(y_train[i])\n",
        "plt.show()"
      ],
      "execution_count": 0,
      "outputs": [
        {
          "output_type": "display_data",
          "data": {
            "image/png": "[encoded data removed]",
            "text/plain": [
              "<Figure size 720x720 with 25 Axes>"
            ]
          },
          "metadata": {
            "tags": []
          }
        }
      ]
    },
    {
      "cell_type": "markdown",
      "metadata": {
        "id": "6s_KZGxseg9F",
        "colab_type": "text"
      },
      "source": [
        "### Scale the data form 0 to 1 by dividing all through with 255\n"
      ]
    },
    {
      "cell_type": "code",
      "metadata": {
        "id": "SYZJEnS9fYnJ",
        "colab_type": "code",
        "colab": {}
      },
      "source": [
        "x_train = x_train/np.float32(255)\n",
        "x_test = x_test/np.float32(255)\n",
        "\n",
        "y_train = y_train.astype(np.int32)\n",
        "y_test = y_test.astype(np.int32)"
      ],
      "execution_count": 0,
      "outputs": []
    },
    {
      "cell_type": "markdown",
      "metadata": {
        "id": "6mnl_eTsaRyK",
        "colab_type": "text"
      },
      "source": [
        "### Further Split the data for the other classifiers\n",
        "The reason for this classifiers ike SVMs dont really need a lot of training samples to classify and would only lengthen our training.\n",
        "\n",
        "So to remedy this we reduce the training samples to be fed to these classifiers\n"
      ]
    },
    {
      "cell_type": "code",
      "metadata": {
        "id": "qFZCvzhma0Xx",
        "colab_type": "code",
        "outputId": "910bef64-429d-42e7-e621-d51a6377d93e",
        "colab": {
          "base_uri": "https://localhost:8080/"
        }
      },
      "source": [
        "#Import train test split\n",
        "from sklearn.model_selection import train_test_split\n",
        "(x_train2,x_test_hold,y_train2,y_test_hold) = train_test_split(x_train,y_train,\n",
        "                                                       test_size = 0.8,\n",
        "                                                      random_state =3)\n",
        "(x_test2,x_test_hold2,y_test2,y_test_hold2) = train_test_split(x_test_hold,y_test_hold,\n",
        "                                                      test_size = 0.8)\n",
        "\n",
        "print(x_train2.shape)\n",
        "print(x_test2.shape)"
      ],
      "execution_count": 0,
      "outputs": [
        {
          "output_type": "stream",
          "text": [
            "(12000, 28, 28)\n",
            "(9600, 28, 28)\n"
          ],
          "name": "stdout"
        }
      ]
    },
    {
      "cell_type": "markdown",
      "metadata": {
        "id": "5CjxL-RlhNMH",
        "colab_type": "text"
      },
      "source": [
        "### Flatten our train set."
      ]
    },
    {
      "cell_type": "code",
      "metadata": {
        "id": "zyxMp9tZcFTS",
        "colab_type": "code",
        "outputId": "25614e6d-753c-4be3-8063-3603f7c00747",
        "colab": {
          "base_uri": "https://localhost:8080/",
          "height": 50
        }
      },
      "source": [
        "hold = x_train2\n",
        "hold2 = x_test2\n",
        "\n",
        "holdlen = len(hold)\n",
        "hold2len = len(hold2)\n",
        "\n",
        "x_train2 = [[0 for x in range(784)] for y in range(holdlen)]\n",
        "x_test2 = [[0 for x in range(784)] for y in range(hold2len)]\n",
        "\n",
        "for i in range(holdlen):\n",
        "  x_train2[i] = hold[i].flatten()\n",
        "  \n",
        "for i in range(hold2len):\n",
        "  x_test2[i] = hold2[i].flatten()\n",
        "  \n",
        "  \n",
        "print(len(x_train2))\n",
        "print(len(x_test2))"
      ],
      "execution_count": 0,
      "outputs": [
        {
          "output_type": "stream",
          "text": [
            "12000\n",
            "9600\n"
          ],
          "name": "stdout"
        }
      ]
    },
    {
      "cell_type": "markdown",
      "metadata": {
        "id": "bvtah0jqr6Op",
        "colab_type": "text"
      },
      "source": [
        "#Necessary Functions\n",
        "\n",
        "### Confusion Matrix and Accuracy computer."
      ]
    },
    {
      "cell_type": "code",
      "metadata": {
        "id": "s8GGAmYzsGmD",
        "colab_type": "code",
        "colab": {}
      },
      "source": [
        "from sklearn.metrics import confusion_matrix\n",
        "from sklearn.utils.multiclass import unique_labels\n",
        "\n",
        "# Making the Confusion Matrix\n",
        "def plot_confusion_matrix(cm,title=None,cmap=plt.cm.Blues):\n",
        "    \n",
        "    if not title:\n",
        "      title = 'Confusion matrix'\n",
        "\n",
        "   \n",
        "    # Only use the labels that appear in the data\n",
        "    fig, ax = plt.subplots()\n",
        "    im = ax.imshow(cm, interpolation='nearest', cmap=cmap)\n",
        "    ax.figure.colorbar(im, ax=ax)\n",
        "    ax.figsize=(10,10)\n",
        "    \n",
        "    # We want to show all ticks...\n",
        "    ax.set(xticks=np.arange(cm.shape[1]),\n",
        "           yticks=np.arange(cm.shape[0]),\n",
        "           # ... and label them with the respective list entries\n",
        "           xticklabels=classes, yticklabels=classes,\n",
        "           title=title,\n",
        "           ylabel='True label',\n",
        "           xlabel='Predicted label')\n",
        "\n",
        "    # Rotate the tick labels and set their alignment.\n",
        "    plt.setp(ax.get_xticklabels(), rotation=45, ha=\"right\",\n",
        "             rotation_mode=\"anchor\")\n",
        "\n",
        "    # Loop over data dimensions and create text annotations.\n",
        "    fmt = 'd'\n",
        "    thresh = cm.max() / 2.\n",
        "    for i in range(cm.shape[0]):\n",
        "        for j in range(cm.shape[1]):\n",
        "            ax.text(j, i, format(cm[i, j], fmt),\n",
        "                    ha=\"center\", va=\"center\",\n",
        "                    color=\"white\" if cm[i, j] > thresh else \"black\")\n",
        "    \n",
        "    return ax\n",
        "\n",
        "def precision(label, confusion_matrix):\n",
        "    col = confusion_matrix[:, label]\n",
        "    return confusion_matrix[label, label] / col.sum()\n",
        "    \n",
        "def recall(label, confusion_matrix):\n",
        "    row = confusion_matrix[label, :]\n",
        "    return confusion_matrix[label, label] / row.sum()\n",
        "def precision_macro_average(confusion_matrix):\n",
        "    rows, columns = confusion_matrix.shape\n",
        "    sum_of_precisions = 0\n",
        "    for label in range(rows):\n",
        "        sum_of_precisions += precision(label, confusion_matrix)\n",
        "    return sum_of_precisions / rows\n",
        "def recall_macro_average(confusion_matrix):\n",
        "    rows, columns = confusion_matrix.shape\n",
        "    sum_of_recalls = 0\n",
        "    for label in range(columns):\n",
        "        sum_of_recalls += recall(label, confusion_matrix)\n",
        "    return sum_of_recalls / columns\n",
        "  \n",
        "#Compute Accuracy\n",
        "def accuracy(confusion_matrix):\n",
        "    diagonal_sum = confusion_matrix.trace()\n",
        "    sum_of_all_elements = confusion_matrix.sum()\n",
        "    return diagonal_sum / sum_of_all_elements "
      ],
      "execution_count": 0,
      "outputs": []
    },
    {
      "cell_type": "markdown",
      "metadata": {
        "colab_type": "text",
        "id": "wp4n53npBJmR"
      },
      "source": [
        "# Classifier 1: K-Nearest Neighbours\n",
        "#### Import K-NN and build and fit our model.\n"
      ]
    },
    {
      "cell_type": "code",
      "metadata": {
        "colab_type": "code",
        "outputId": "656e0cf0-fc54-4df6-e84f-53614e9a6b3a",
        "id": "sp_LafnbBJmg",
        "colab": {
          "base_uri": "https://localhost:8080/",
          "height": 66
        }
      },
      "source": [
        "#Import KNN from Sklearn \n",
        "from sklearn.neighbors import KNeighborsClassifier\n",
        "#Number of nneighbors we set to 5\n",
        "knn_model = KNeighborsClassifier(n_neighbors = 5, metric = 'minkowski', p = 2)\n",
        "knn_model.fit(x_train2,y_train2)"
      ],
      "execution_count": 0,
      "outputs": [
        {
          "output_type": "execute_result",
          "data": {
            "text/plain": [
              "KNeighborsClassifier(algorithm='auto', leaf_size=30, metric='minkowski',\n",
              "                     metric_params=None, n_jobs=None, n_neighbors=5, p=2,\n",
              "                     weights='uniform')"
            ]
          },
          "metadata": {
            "tags": []
          },
          "execution_count": 10
        }
      ]
    },
    {
      "cell_type": "markdown",
      "metadata": {
        "colab_type": "text",
        "id": "ByhCQftJBJmy"
      },
      "source": [
        "### Test our SVM model"
      ]
    },
    {
      "cell_type": "code",
      "metadata": {
        "colab_type": "code",
        "id": "uf0nmGmBBJm1",
        "colab": {}
      },
      "source": [
        "# Predicting the Test set results\n",
        "knn_pred = knn_model.predict(x_test2)\n",
        "#Create our confusion Matrix\n",
        "knn_cm  = confusion_matrix(y_test2,knn_pred)\n",
        "\n",
        "print(\"Done\")"
      ],
      "execution_count": 0,
      "outputs": []
    },
    {
      "cell_type": "markdown",
      "metadata": {
        "colab_type": "text",
        "id": "L19usDFGBJm6"
      },
      "source": [
        "### Analyze our SVM Model Predictions\n",
        "\n"
      ]
    },
    {
      "cell_type": "code",
      "metadata": {
        "colab_type": "code",
        "outputId": "00923c2e-52b6-4d5f-e106-ad57d3c8ab46",
        "id": "VkCZ5V32BJm8",
        "colab": {
          "base_uri": "https://localhost:8080/",
          "height": 319
        }
      },
      "source": [
        "plot_confusion_matrix(knn_cm,\"KNN Confusion Matrix\")"
      ],
      "execution_count": 0,
      "outputs": [
        {
          "output_type": "execute_result",
          "data": {
            "text/plain": [
              "<matplotlib.axes._subplots.AxesSubplot at 0x7f3d5b05ad30>"
            ]
          },
          "metadata": {
            "tags": []
          },
          "execution_count": 10
        },
        {
          "output_type": "display_data",
          "data": {
            "image/png": "[encoded data removed]",
            "text/plain": [
              "<Figure size 432x288 with 2 Axes>"
            ]
          },
          "metadata": {
            "tags": []
          }
        }
      ]
    },
    {
      "cell_type": "code",
      "metadata": {
        "colab_type": "code",
        "outputId": "c07afdd3-3e9f-43d1-dcfc-90012a282162",
        "id": "wV5_-svABJnJ",
        "colab": {
          "base_uri": "https://localhost:8080/",
          "height": 199
        }
      },
      "source": [
        "print(\"label precision recall\")\n",
        "for label in range(10):\n",
        "    print(f\"{label:5d} {precision(label, knn_cm):9.3f} {recall(label, knn_cm):6.3f}\")"
      ],
      "execution_count": 0,
      "outputs": [
        {
          "output_type": "stream",
          "text": [
            "label precision recall\n",
            "    0     0.966  0.995\n",
            "    1     0.931  0.993\n",
            "    2     0.973  0.941\n",
            "    3     0.953  0.956\n",
            "    4     0.961  0.942\n",
            "    5     0.949  0.946\n",
            "    6     0.971  0.982\n",
            "    7     0.941  0.962\n",
            "    8     0.982  0.884\n",
            "    9     0.917  0.929\n"
          ],
          "name": "stdout"
        }
      ]
    },
    {
      "cell_type": "code",
      "metadata": {
        "colab_type": "code",
        "outputId": "41843659-1063-44dd-d75c-be84b353816b",
        "id": "bWA-ISpQBJnT",
        "colab": {
          "base_uri": "https://localhost:8080/",
          "height": 50
        }
      },
      "source": [
        "print(\"precision total:\", precision_macro_average(knn_cm))\n",
        "print(\"recall total:\", recall_macro_average(knn_cm))"
      ],
      "execution_count": 0,
      "outputs": [
        {
          "output_type": "stream",
          "text": [
            "precision total: 0.9545551504308634\n",
            "recall total: 0.9528916065069867\n"
          ],
          "name": "stdout"
        }
      ]
    },
    {
      "cell_type": "markdown",
      "metadata": {
        "colab_type": "text",
        "id": "LHKhZPrLBJng"
      },
      "source": [
        "## KNN Accuracy"
      ]
    },
    {
      "cell_type": "code",
      "metadata": {
        "colab_type": "code",
        "outputId": "e0d019ff-3403-47d6-b37d-7b8d3b0736f8",
        "id": "wgdFwlOxBJni",
        "colab": {
          "base_uri": "https://localhost:8080/",
          "height": 33
        }
      },
      "source": [
        "print(\"Accuracy = \", (accuracy(knn_cm)*100))"
      ],
      "execution_count": 0,
      "outputs": [
        {
          "output_type": "stream",
          "text": [
            "Accuracy =  95.34375\n"
          ],
          "name": "stdout"
        }
      ]
    },
    {
      "cell_type": "markdown",
      "metadata": {
        "colab_type": "text",
        "id": "Q9iqxqDtEqRc"
      },
      "source": [
        "# Classifier 2: Decision Trees\n",
        "#### Import DecisionTree and build and fit our model."
      ]
    },
    {
      "cell_type": "code",
      "metadata": {
        "colab_type": "code",
        "outputId": "4fbffa81-5c7b-4a85-eea6-6c34e67908f3",
        "id": "YqmzD6tGEqRQ",
        "colab": {
          "base_uri": "https://localhost:8080/",
          "height": 116
        }
      },
      "source": [
        "#Import tree from Sklearn \n",
        "from sklearn.tree import DecisionTreeClassifier\n",
        "\n",
        "#Build and Fit our model\n",
        "dt_model = DecisionTreeClassifier(criterion = 'entropy', random_state = 0)\n",
        "dt_model.fit(x_train2,y_train2) "
      ],
      "execution_count": 0,
      "outputs": [
        {
          "output_type": "execute_result",
          "data": {
            "text/plain": [
              "DecisionTreeClassifier(class_weight=None, criterion='entropy', max_depth=None,\n",
              "                       max_features=None, max_leaf_nodes=None,\n",
              "                       min_impurity_decrease=0.0, min_impurity_split=None,\n",
              "                       min_samples_leaf=1, min_samples_split=2,\n",
              "                       min_weight_fraction_leaf=0.0, presort=False,\n",
              "                       random_state=0, splitter='best')"
            ]
          },
          "metadata": {
            "tags": []
          },
          "execution_count": 15
        }
      ]
    },
    {
      "cell_type": "markdown",
      "metadata": {
        "colab_type": "text",
        "id": "VR2uBHAWEqRO"
      },
      "source": [
        "### Test our SVM model"
      ]
    },
    {
      "cell_type": "code",
      "metadata": {
        "colab_type": "code",
        "id": "zF-GhCqeEqRH",
        "colab": {}
      },
      "source": [
        "# Predicting the Test set results\n",
        "dt_pred = dt_model.predict(x_test2)\n",
        "#Create our confusion Matrix\n",
        "dt_cm  = confusion_matrix(y_test2,dt_pred)"
      ],
      "execution_count": 0,
      "outputs": []
    },
    {
      "cell_type": "markdown",
      "metadata": {
        "colab_type": "text",
        "id": "Dqm7Ns3yEqRE"
      },
      "source": [
        "### Analyze our SVM Model Predictions\n",
        "\n"
      ]
    },
    {
      "cell_type": "code",
      "metadata": {
        "colab_type": "code",
        "outputId": "9877246a-451f-4415-ab24-ff0e38187f08",
        "id": "BnC3i-irEqQq",
        "colab": {
          "base_uri": "https://localhost:8080/",
          "height": 319
        }
      },
      "source": [
        "plot_confusion_matrix(dt_cm,\"SVM Confusion Matrix\")"
      ],
      "execution_count": 0,
      "outputs": [
        {
          "output_type": "execute_result",
          "data": {
            "text/plain": [
              "<matplotlib.axes._subplots.AxesSubplot at 0x7f3d5abbe908>"
            ]
          },
          "metadata": {
            "tags": []
          },
          "execution_count": 17
        },
        {
          "output_type": "display_data",
          "data": {
            "image/png": "[encoded data removed]",
            "text/plain": [
              "<Figure size 432x288 with 2 Axes>"
            ]
          },
          "metadata": {
            "tags": []
          }
        }
      ]
    },
    {
      "cell_type": "code",
      "metadata": {
        "colab_type": "code",
        "outputId": "11e5ee6b-630f-49fb-a165-cc0cbed0c5ce",
        "id": "cNczzuDFEqQf",
        "colab": {
          "base_uri": "https://localhost:8080/",
          "height": 199
        }
      },
      "source": [
        "print(\"label precision recall\")\n",
        "for label in range(10):\n",
        "    print(f\"{label:5d} {precision(label, dt_cm):9.3f} {recall(label, dt_cm):6.3f}\")"
      ],
      "execution_count": 0,
      "outputs": [
        {
          "output_type": "stream",
          "text": [
            "label precision recall\n",
            "    0     0.897  0.883\n",
            "    1     0.915  0.947\n",
            "    2     0.803  0.807\n",
            "    3     0.799  0.772\n",
            "    4     0.800  0.817\n",
            "    5     0.753  0.771\n",
            "    6     0.847  0.842\n",
            "    7     0.879  0.879\n",
            "    8     0.797  0.732\n",
            "    9     0.772  0.811\n"
          ],
          "name": "stdout"
        }
      ]
    },
    {
      "cell_type": "code",
      "metadata": {
        "colab_type": "code",
        "outputId": "f6fbd910-a493-455b-e760-25764d543c8b",
        "id": "KK39oXL0EqQU",
        "colab": {
          "base_uri": "https://localhost:8080/",
          "height": 50
        }
      },
      "source": [
        "print(\"precision total:\", precision_macro_average(dt_cm))\n",
        "print(\"recall total:\", recall_macro_average(dt_cm))"
      ],
      "execution_count": 0,
      "outputs": [
        {
          "output_type": "stream",
          "text": [
            "precision total: 0.8262750473928209\n",
            "recall total: 0.8260771963118356\n"
          ],
          "name": "stdout"
        }
      ]
    },
    {
      "cell_type": "markdown",
      "metadata": {
        "colab_type": "text",
        "id": "W1-6xOy6EqQR"
      },
      "source": [
        "## Decision Trees Accuracy is about 80% without any extra optimizations or using Random Forests"
      ]
    },
    {
      "cell_type": "code",
      "metadata": {
        "colab_type": "code",
        "outputId": "16b05206-f0ee-4e8f-9655-b036100a9d62",
        "id": "uIc-pEWPEqP3",
        "colab": {
          "base_uri": "https://localhost:8080/",
          "height": 33
        }
      },
      "source": [
        "print(\"Accuracy = \", (accuracy(dt_cm)*100))"
      ],
      "execution_count": 0,
      "outputs": [
        {
          "output_type": "stream",
          "text": [
            "Accuracy =  82.84375\n"
          ],
          "name": "stdout"
        }
      ]
    },
    {
      "cell_type": "markdown",
      "metadata": {
        "id": "bkkF15P5cL6I",
        "colab_type": "text"
      },
      "source": [
        "# Classifier 3: SVM\n",
        "#### Import SVM and build and fit our model. Its a multi class SVM  "
      ]
    },
    {
      "cell_type": "code",
      "metadata": {
        "id": "ZfG2FE3cgAnY",
        "colab_type": "code",
        "outputId": "59543103-bfc8-4470-d25e-57cbc9d296a6",
        "colab": {
          "base_uri": "https://localhost:8080/",
          "height": 83
        }
      },
      "source": [
        "#Import SVM from Sklearn \n",
        "from sklearn.svm import SVC\n",
        "\n",
        "#Build and Fit our model\n",
        "svm_model = SVC(kernel = 'rbf',gamma='scale', decision_function_shape='ovo')\n",
        "svm_model.fit(x_train2,y_train2) "
      ],
      "execution_count": 0,
      "outputs": [
        {
          "output_type": "execute_result",
          "data": {
            "text/plain": [
              "SVC(C=1.0, cache_size=200, class_weight=None, coef0=0.0,\n",
              "    decision_function_shape='ovo', degree=3, gamma='scale', kernel='rbf',\n",
              "    max_iter=-1, probability=False, random_state=None, shrinking=True,\n",
              "    tol=0.001, verbose=False)"
            ]
          },
          "metadata": {
            "tags": []
          },
          "execution_count": 86
        }
      ]
    },
    {
      "cell_type": "markdown",
      "metadata": {
        "id": "6tC-lQjKebJF",
        "colab_type": "text"
      },
      "source": [
        "### Test our SVM model"
      ]
    },
    {
      "cell_type": "code",
      "metadata": {
        "id": "mySDw_bqoXiD",
        "colab_type": "code",
        "colab": {}
      },
      "source": [
        "# Predicting the Test set results\n",
        "svm_pred = svm_model.predict(x_test2)\n",
        "#Create our confusion Matrix\n",
        "svm_cm  = confusion_matrix(y_test2,svm_pred)"
      ],
      "execution_count": 0,
      "outputs": []
    },
    {
      "cell_type": "markdown",
      "metadata": {
        "id": "xRdRGbnlreyU",
        "colab_type": "text"
      },
      "source": [
        "### Analyze our SVM Model Predictions\n",
        "\n"
      ]
    },
    {
      "cell_type": "code",
      "metadata": {
        "id": "4cvOIcKGpw6m",
        "colab_type": "code",
        "outputId": "193faba9-dcea-4855-a7a6-77f0d5a45c49",
        "colab": {
          "base_uri": "https://localhost:8080/",
          "height": 319
        }
      },
      "source": [
        "plot_confusion_matrix(svm_cm,\"SVM Confusion Matrix\")"
      ],
      "execution_count": 0,
      "outputs": [
        {
          "output_type": "execute_result",
          "data": {
            "text/plain": [
              "<matplotlib.axes._subplots.AxesSubplot at 0x7f695b56d470>"
            ]
          },
          "metadata": {
            "tags": []
          },
          "execution_count": 77
        },
        {
          "output_type": "display_data",
          "data": {
            "image/png": "[encoded data removed]",
            "text/plain": [
              "<Figure size 432x288 with 2 Axes>"
            ]
          },
          "metadata": {
            "tags": []
          }
        }
      ]
    },
    {
      "cell_type": "code",
      "metadata": {
        "id": "-JigMdigv19Y",
        "colab_type": "code",
        "outputId": "d95f56b2-8a2e-4f54-9fe9-d551177205f9",
        "colab": {
          "base_uri": "https://localhost:8080/",
          "height": 199
        }
      },
      "source": [
        "print(\"label precision recall\")\n",
        "for label in range(10):\n",
        "    print(f\"{label:5d} {precision(label, svm_cm):9.3f} {recall(label, svm_cm):6.3f}\")"
      ],
      "execution_count": 0,
      "outputs": [
        {
          "output_type": "stream",
          "text": [
            "label precision recall\n",
            "    0     0.979  0.980\n",
            "    1     0.974  0.976\n",
            "    2     0.958  0.963\n",
            "    3     0.968  0.950\n",
            "    4     0.944  0.963\n",
            "    5     0.951  0.959\n",
            "    6     0.969  0.982\n",
            "    7     0.966  0.951\n",
            "    8     0.955  0.951\n",
            "    9     0.942  0.935\n"
          ],
          "name": "stdout"
        }
      ]
    },
    {
      "cell_type": "code",
      "metadata": {
        "id": "A79KW2Zrok9h",
        "colab_type": "code",
        "outputId": "30c3535c-1971-4ad3-ce6e-26b095ddbe82",
        "colab": {
          "base_uri": "https://localhost:8080/",
          "height": 50
        }
      },
      "source": [
        "print(\"precision total:\", precision_macro_average(svm_cm))\n",
        "print(\"recall total:\", recall_macro_average(svm_cm))"
      ],
      "execution_count": 0,
      "outputs": [
        {
          "output_type": "stream",
          "text": [
            "precision total: 0.8422842160468151\n",
            "recall total: 0.8188656941816449\n"
          ],
          "name": "stdout"
        }
      ]
    },
    {
      "cell_type": "markdown",
      "metadata": {
        "id": "jfM33dnfx_k2",
        "colab_type": "text"
      },
      "source": [
        "### SVM Accuracy is about 95% without any extra optimizations on the SVM model."
      ]
    },
    {
      "cell_type": "code",
      "metadata": {
        "id": "92gItvKnszsQ",
        "colab_type": "code",
        "outputId": "78976de9-766c-4a3d-ee3e-ec3a10d93b2a",
        "colab": {
          "base_uri": "https://localhost:8080/",
          "height": 33
        }
      },
      "source": [
        "print(\"Accuracy = \", (accuracy(svm_cm)*100))"
      ],
      "execution_count": 0,
      "outputs": [
        {
          "output_type": "stream",
          "text": [
            "Accuracy =  96.10416666666667\n"
          ],
          "name": "stdout"
        }
      ]
    },
    {
      "cell_type": "markdown",
      "metadata": {
        "id": "bg3QdTTfz4Hl",
        "colab_type": "text"
      },
      "source": [
        "# Classifier 4: ANN\n",
        "The following section classification is achieved using an artificial network"
      ]
    },
    {
      "cell_type": "markdown",
      "metadata": {
        "id": "UZP-4J590hAh",
        "colab_type": "text"
      },
      "source": [
        "## Step 1: Build and Compile our model"
      ]
    },
    {
      "cell_type": "code",
      "metadata": {
        "id": "yDYIDhb70c1I",
        "colab_type": "code",
        "outputId": "6e6a01bb-f363-4bec-dff5-acfe64000c0c",
        "colab": {
          "base_uri": "https://localhost:8080/",
          "height": 103
        }
      },
      "source": [
        "ann_model = keras.Sequential([\n",
        "    keras.layers.Flatten(input_shape=(28,28)),\n",
        "    keras.layers.Dense(128,activation=tf.nn.relu),\n",
        "    keras.layers.Dense(10,activation = tf.nn.softmax)\n",
        "])"
      ],
      "execution_count": 0,
      "outputs": [
        {
          "output_type": "stream",
          "text": [
            "WARNING: Logging before flag parsing goes to stderr.\n",
            "W0616 16:28:04.839188 139902584690560 deprecation.py:506] From /usr/local/lib/python3.6/dist-packages/tensorflow/python/ops/init_ops.py:1251: calling VarianceScaling.__init__ (from tensorflow.python.ops.init_ops) with dtype is deprecated and will be removed in a future version.\n",
            "Instructions for updating:\n",
            "Call initializer instance with the dtype argument instead of passing it to the constructor\n"
          ],
          "name": "stderr"
        }
      ]
    },
    {
      "cell_type": "markdown",
      "metadata": {
        "id": "gut8A_7rCaW6",
        "colab_type": "text"
      },
      "source": [
        "The first layer in this network, `tf.keras.layers.Flatten`, transforms the format of the images from a 2d-array (of 28 by 28 pixels), to a 1d-array of 28 * 28 = 784 pixels. Think of this layer as unstacking rows of pixels in the image and lining them up. This layer has no parameters to learn; it only reformats the data.\n",
        "\n",
        "After the pixels are flattened, the network consists of a sequence of two `tf.keras.layers.Dense` layers. These are densely-connected, or fully-connected, neural layers. The first `Dense` layer has 128 nodes (or neurons). The second (and last) layer is a 10-node *softmax* layer—this returns an array of 10 probability scores that sum to 1. Each node contains a score that indicates the probability that the current image belongs to one of the 10 classes.\n",
        "\n",
        "### Compile the model\n",
        "\n",
        "Before the model is ready for training, it needs a few more settings. These are added during the model's *compile* step:\n",
        "\n",
        "* *Loss function* —This measures how accurate the model is during training. We want to minimize this function to \"steer\" the model in the right direction.\n",
        "* *Optimizer* —This is how the model is updated based on the data it sees and its loss function.\n",
        "* *Metrics* —Used to monitor the training and testing steps. The following example uses *accuracy*, the fraction of the images that are correctly classified."
      ]
    },
    {
      "cell_type": "code",
      "metadata": {
        "id": "YV_Rivnb1GXF",
        "colab_type": "code",
        "colab": {}
      },
      "source": [
        "ann_model.compile(optimizer='adam',\n",
        "                 loss='sparse_categorical_crossentropy',\n",
        "                 metrics=['accuracy'])"
      ],
      "execution_count": 0,
      "outputs": []
    },
    {
      "cell_type": "markdown",
      "metadata": {
        "id": "z6GVudbm1hSQ",
        "colab_type": "text"
      },
      "source": [
        "### Train the model\n"
      ]
    },
    {
      "cell_type": "code",
      "metadata": {
        "id": "IuAIVMtu1m83",
        "colab_type": "code",
        "outputId": "88070119-964e-463e-a675-e65fc0fbf798",
        "colab": {
          "base_uri": "https://localhost:8080/",
          "height": 199
        }
      },
      "source": [
        "ann_model.fit(x_train,y_train,epochs =5)"
      ],
      "execution_count": 0,
      "outputs": [
        {
          "output_type": "stream",
          "text": [
            "Epoch 1/5\n",
            "60000/60000 [==============================] - 5s 83us/sample - loss: 0.2548 - acc: 0.9283\n",
            "Epoch 2/5\n",
            "60000/60000 [==============================] - 4s 74us/sample - loss: 0.1125 - acc: 0.9673\n",
            "Epoch 3/5\n",
            "60000/60000 [==============================] - 4s 70us/sample - loss: 0.0773 - acc: 0.9768\n",
            "Epoch 4/5\n",
            "60000/60000 [==============================] - 4s 71us/sample - loss: 0.0582 - acc: 0.9819\n",
            "Epoch 5/5\n",
            "60000/60000 [==============================] - 4s 72us/sample - loss: 0.0447 - acc: 0.9862\n"
          ],
          "name": "stdout"
        },
        {
          "output_type": "execute_result",
          "data": {
            "text/plain": [
              "<tensorflow.python.keras.callbacks.History at 0x7f3d59f28320>"
            ]
          },
          "metadata": {
            "tags": []
          },
          "execution_count": 23
        }
      ]
    },
    {
      "cell_type": "markdown",
      "metadata": {
        "id": "WqsgFwuk1xRN",
        "colab_type": "text"
      },
      "source": [
        "### Evaluate accuracy\n",
        "Next, compare how the model performs on the test dataset:"
      ]
    },
    {
      "cell_type": "code",
      "metadata": {
        "id": "MlFLyyGS10o1",
        "colab_type": "code",
        "outputId": "8c7b2795-746a-4547-a40a-83723ed5c41e",
        "colab": {
          "base_uri": "https://localhost:8080/",
          "height": 50
        }
      },
      "source": [
        "test_loss, test_acc = ann_model.evaluate(x_test, y_test)\n",
        "\n",
        "print('Test accuracy:', test_acc*100)"
      ],
      "execution_count": 0,
      "outputs": [
        {
          "output_type": "stream",
          "text": [
            "10000/10000 [==============================] - 0s 37us/sample - loss: 0.0846 - acc: 0.9730\n",
            "Test accuracy: 97.29999899864197\n"
          ],
          "name": "stdout"
        }
      ]
    },
    {
      "cell_type": "markdown",
      "metadata": {
        "id": "MTeYXmKi2Nby",
        "colab_type": "text"
      },
      "source": [
        "# Classifier 5:CNN"
      ]
    },
    {
      "cell_type": "markdown",
      "metadata": {
        "id": "j23E_Z0FQvZB",
        "colab_type": "text"
      },
      "source": [
        "## Building the CNN MNIST Classifier\n",
        "\n",
        "Let's build a model to classify the images in the MNIST dataset using the\n",
        "following CNN architecture:\n",
        "\n",
        "1.  **Convolutional Layer #1**: Applies 32 5x5 filters (extracting 5x5-pixel\n",
        "    subregions), with ReLU activation function\n",
        "2.  **Pooling Layer #1**: Performs max pooling with a 2x2 filter and stride of 2\n",
        "    (which specifies that pooled regions do not overlap)\n",
        "3.  **Convolutional Layer #2**: Applies 64 5x5 filters, with ReLU activation\n",
        "    function\n",
        "4.  **Pooling Layer #2**: Again, performs max pooling with a 2x2 filter and\n",
        "    stride of 2\n",
        "5.  **Dense Layer #1**: 1,024 neurons, with dropout regularization rate of 0.4\n",
        "    (probability of 0.4 that any given element will be dropped during training)\n",
        "6.  **Dense Layer #2 (Logits Layer)**: 10 neurons, one for each digit target\n",
        "    class (0–9).\n",
        "\n",
        "The `tf.layers` module contains methods to create each of the three layer types\n",
        "above:\n",
        "\n",
        "*   `conv2d()`. Constructs a two-dimensional convolutional layer. Takes number\n",
        "    of filters, filter kernel size, padding, and activation function as\n",
        "    arguments.\n",
        "*   `max_pooling2d()`. Constructs a two-dimensional pooling layer using the\n",
        "    max-pooling algorithm. Takes pooling filter size and stride as arguments.\n",
        "*   `dense()`. Constructs a dense layer. Takes number of neurons and activation\n",
        "    function as arguments.\n"
      ]
    },
    {
      "cell_type": "code",
      "metadata": {
        "id": "0MXjWWz_F_k1",
        "colab_type": "code",
        "colab": {}
      },
      "source": [
        "def cnn_model_fn(features, labels, mode):\n",
        "  \n",
        "  #Step 1: Input Layer\n",
        "  # Note that we've indicated -1 for batch size, which specifies that this \n",
        "  # dimension should be dynamically computed based on the number of input \n",
        "  # values in features[\"x\"], holding the size of all other dimensions constant.\n",
        "  # This allows us to treat batch_size as a hyperparameter that we can tune.\n",
        "  \n",
        "  input_layer = tf.reshape(features[\"X\"],[-1,28,28,1])\n",
        "  \n",
        "  #------------------------------------------------------------------\n",
        "  #Convolution Layer 1\n",
        "  \n",
        "  conv1 = tf.layers.conv2d(\n",
        "    #Feed our input layer ensure its in the correct format\n",
        "    inputs = input_layer,\n",
        "      # Set our number of filters our case 32\n",
        "    filters = 32,\n",
        "      # Set the size of the feature matrix\n",
        "    kernel_size = [5,5],\n",
        "      # By adding padding we ensure the outputs of the convolution are of the\n",
        "      # same shape as the input layer 28x28 by adding zeros on th e24x24 output\n",
        "    padding =\"same\",\n",
        "      #Here we set out activation function for the convolution output\n",
        "    activation = tf.nn.relu)\n",
        "  \n",
        "  #--------------------------------------------------------------------\n",
        "  #Pooling Layer 1\n",
        "  # we perform max pooling with a filter 2x2\n",
        "  \n",
        "  pool1 = tf.layers.max_pooling2D(\n",
        "      # We feed our input as the convolution output\n",
        "    inputs = conv1,\n",
        "      #We set the size of our pooling filter\n",
        "    pool_size = [2,2],\n",
        "      # We set the size of shift of the filter, for 2x2 a shift of 2 ensures no\n",
        "      # overlapping will occur as the filter moves\n",
        "    strides = 2)\n",
        "  \n",
        "  #---------------------------------------------------------------------\n",
        "  #Convolution Layer 2 and Pooling Layer 2\n",
        "  # After max pooling with a 2x2 filter the output shape reduces by 50%\n",
        "  conv2 = tf.layers.conv2d(\n",
        "  inputs = pool1, #14x14\n",
        "  filters = 64,\n",
        "  kernel_size = 5,\n",
        "  padding = \"same\",\n",
        "  activation = tf.nn.relu)\n",
        "  \n",
        "  #Pool layer 2\n",
        "  pool2  = tf.layers.max_pooling2D(\n",
        "  inputs = conv2,\n",
        "  pool_size = 2,\n",
        "  strides = 2)\n",
        "  \n",
        "  # This pool layer will output a shape of 7x7\n",
        "  \n",
        "  #---------------------------------------------------------------------\n",
        "  # Dense Layer\n",
        "  # Our Dense layer will have a total of 1024 neurons\n",
        "  \n",
        "  # We flatten our pool2 output\n",
        "  pool2_flat = tf.reshape(pool2, [-1,7*7*64])\n",
        "  \n",
        "  #Now make our dense layer\n",
        "  dense = tf.layers.dense(inputs = pool2_flat, units=1024, activation=tf.nn.relu)\n",
        "  \n",
        "  #---------------------------------------------------------------------\n",
        "  #To help improve the results of our model, we also apply dropout\n",
        "  # regularization to our dense layer\n",
        "  \n",
        "  dropout = tf.layers.dropout(\n",
        "      #Input is our dense layer      \n",
        "    inputs=dense,\n",
        "      # This sets the drop out rate. 40% of samples will be dropped out\n",
        "    rate=0.4,\n",
        "    training=mode == tf.estimator.ModeKeys.TRAIN)\n",
        "  \n",
        "  #Our dropout output will have a size of 1024\n",
        "  \n",
        "  #----------------------------------------------------------------------\n",
        "  # Prediction Layer \n",
        "  # Has 10 neurons equal to our classes which will return raw values of our \n",
        "  # predictors\n",
        "  \n",
        "  logits = tf.layers.dense(\n",
        "      inputs=dropout,\n",
        "      units = 10) #number of neurons\n",
        "  \n",
        "  #--------------------------------------------------------------------\n",
        "  #Get our predictions\n",
        "  predictions = {\n",
        "      # Generate predictions (for PREDICT and EVAL mode)\n",
        "      \"classes\": tf.argmax(input=logits, axis=1),\n",
        "      # Add `softmax_tensor` to the graph. It is used for PREDICT and by the\n",
        "      # `logging_hook`.\n",
        "      \"probabilities\": tf.nn.softmax(logits, name=\"softmax_tensor\")\n",
        "  }\n",
        "  \n",
        "  if mode == tf.estimator.ModeKeys.PREDICT:\n",
        "    return tf.estimator.EstimatorSpec(mode=mode, predictions=predictions)\n",
        "\n",
        "  # Calculate Loss (for both TRAIN and EVAL modes)\n",
        "  loss = tf.losses.sparse_softmax_cross_entropy(labels=labels, logits=logits)\n",
        "\n",
        "  # Configure the Training Op (for TRAIN mode)\n",
        "  if mode == tf.estimator.ModeKeys.TRAIN:\n",
        "    optimizer = tf.train.GradientDescentOptimizer(learning_rate=0.001)\n",
        "    train_op = optimizer.minimize(\n",
        "        loss=loss,\n",
        "        global_step=tf.train.get_global_step())\n",
        "    return tf.estimator.EstimatorSpec(mode=mode, loss=loss, train_op=train_op)\n",
        "\n",
        "  # Add evaluation metrics (for EVAL mode)\n",
        "  eval_metric_ops = {\n",
        "      \"accuracy\": tf.metrics.accuracy(\n",
        "          labels=labels, predictions=predictions[\"classes\"])\n",
        "  }\n",
        "  return tf.estimator.EstimatorSpec(\n",
        "      mode=mode, loss=loss, eval_metric_ops=eval_metric_ops)"
      ],
      "execution_count": 0,
      "outputs": []
    },
    {
      "cell_type": "markdown",
      "metadata": {
        "id": "5GwIgu0VfId-",
        "colab_type": "text"
      },
      "source": [
        "### Create our estimator"
      ]
    },
    {
      "cell_type": "code",
      "metadata": {
        "id": "TrzLmMmKfMuM",
        "colab_type": "code",
        "outputId": "350c8197-7efd-4135-f288-de978f23910e",
        "colab": {
          "base_uri": "https://localhost:8080/",
          "height": 70
        }
      },
      "source": [
        "cnn_model= tf.estimator.Estimator(\n",
        "    #Model FN specifies the model function to be used in training which is code\n",
        "    # in the previous step\n",
        "  model_fn = cnn_model_fn,\n",
        "    #The model directory specifies where to store training checkpoints\n",
        "  model_dir=\"\")"
      ],
      "execution_count": 0,
      "outputs": [
        {
          "output_type": "stream",
          "text": [
            "WARNING: Logging before flag parsing goes to stderr.\n",
            "W0618 12:52:29.378604 139811543521152 estimator.py:1811] Using temporary folder as model directory: /tmp/tmpqztuyl4k\n"
          ],
          "name": "stderr"
        }
      ]
    },
    {
      "cell_type": "markdown",
      "metadata": {
        "id": "_6ow7hVYTm3f",
        "colab_type": "text"
      },
      "source": [
        "### Set Up a Logging Hook {#set_up_a_logging_hook}\n",
        "\n",
        "Since CNNs can take a while to train, let's set up some logging so we can track\n",
        "progress during training."
      ]
    },
    {
      "cell_type": "code",
      "metadata": {
        "id": "S6T10kssTpdz",
        "colab_type": "code",
        "colab": {}
      },
      "source": [
        "# Set up logging for predictions\n",
        "tensors_to_log = {\"probabilities\": \"softmax_tensor\"}\n",
        "\n",
        "logging_hook = tf.train.LoggingTensorHook(\n",
        "    tensors=tensors_to_log, every_n_iter=50)"
      ],
      "execution_count": 0,
      "outputs": []
    },
    {
      "cell_type": "markdown",
      "metadata": {
        "id": "06RJ2yWlgiP9",
        "colab_type": "text"
      },
      "source": [
        "### We train the model"
      ]
    },
    {
      "cell_type": "code",
      "metadata": {
        "id": "RyU2cJuGgh9s",
        "colab_type": "code",
        "outputId": "a3122db2-8333-42be-e1a8-c622bebc185d",
        "colab": {
          "base_uri": "https://localhost:8080/",
          "height": 153
        }
      },
      "source": [
        "train_input_fn = tf.estimator.inputs.numpy_input_fn(\n",
        "    x = {\"X\": x_train},\n",
        "    y = y_train,\n",
        "    batch_size = 100,\n",
        "    num_epochs = None,\n",
        "    shuffle=True)\n",
        "\n",
        "cnn_model.train(\n",
        "    input_fn = train_input_fn,\n",
        "    steps = 10000,  # Increase the number of steps to increase accuracy\n",
        "    hooks = [logging_hook])"
      ],
      "execution_count": 0,
      "outputs": [
        {
          "output_type": "stream",
          "text": [
            "W0618 13:10:03.506122 139811543521152 deprecation.py:323] From /usr/local/lib/python3.6/dist-packages/tensorflow/python/training/saver.py:1066: get_checkpoint_mtimes (from tensorflow.python.training.checkpoint_management) is deprecated and will be removed in a future version.\n",
            "Instructions for updating:\n",
            "Use standard file utilities to get mtimes.\n",
            "W0618 13:50:04.338467 139811543521152 deprecation.py:323] From /usr/local/lib/python3.6/dist-packages/tensorflow/python/training/saver.py:960: remove_checkpoint (from tensorflow.python.training.checkpoint_management) is deprecated and will be removed in a future version.\n",
            "Instructions for updating:\n",
            "Use standard file APIs to delete files with this prefix.\n"
          ],
          "name": "stderr"
        },
        {
          "output_type": "execute_result",
          "data": {
            "text/plain": [
              "<tensorflow_estimator.python.estimator.estimator.Estimator at 0x7f28238d2a90>"
            ]
          },
          "metadata": {
            "tags": []
          },
          "execution_count": 19
        }
      ]
    },
    {
      "cell_type": "markdown",
      "metadata": {
        "id": "_wDrtTlXpkv_",
        "colab_type": "text"
      },
      "source": [
        "### Evaluate the Model\n",
        "\n",
        "To increase the model perfromance we increase the number of steps , however these greatly increases training periods however"
      ]
    },
    {
      "cell_type": "code",
      "metadata": {
        "id": "Iuha6ScViURL",
        "colab_type": "code",
        "outputId": "7020e79f-b677-4670-b7e6-642080c76e17",
        "colab": {
          "base_uri": "https://localhost:8080/",
          "height": 33
        }
      },
      "source": [
        "cnn_pred_fn = tf.estimator.inputs.numpy_input_fn(\n",
        "    x = {\"X\": x_test},\n",
        "    y = y_test,\n",
        "    num_epochs=1,\n",
        "    shuffle = False)\n",
        "\n",
        "cnn_pred = cnn_model.evaluate(input_fn = cnn_pred_fn)\n",
        "\n",
        "print(cnn_pred)"
      ],
      "execution_count": 0,
      "outputs": [
        {
          "output_type": "stream",
          "text": [
            "{'accuracy': 0.1135, 'loss': 2.3006136, 'global_step': 10001}\n"
          ],
          "name": "stdout"
        }
      ]
    }
  ]
}